{
 "cells": [
  {
   "cell_type": "markdown",
   "id": "142c76e9-2300-448a-ad83-137df8b2213b",
   "metadata": {},
   "source": [
    "<h1 style=\"text-align: center;\">Буркіна-Фасо</h1>\n",
    "\n",
    "<h2 style=\"text-align: center;\">Загальна характеристика</h2>\n",
    "\n",
    "**Буркіна́-Фасо́** (фр. Burkina Faso) — незалежна держава у Західній Африці. Територія — 273 187 км², населення — 17,6 млн осіб (станом на 2013 рік).  Столиця — Уагадугу.\n",
    "\n",
    "![Розташування країни](resources/location.png)\n",
    "*Розташування країни*\n",
    "\n",
    "### Походження назви\n",
    "Назва означає «батьківщина чесних людей» (в перекладі з мови мооре «буркіна» — «чесні люди», в перекладі з мови дьюла «Фасо» — «вітчизна»). Інша версія перекладу — «країна гідних людей». Вживається також скорочена назва Буркіна (Burkina), прикметник від назви країни — буркінійський, буркінабський (на фула та французькою — Burkinabè).\n",
    "\n",
    "### Фізико-географічне положення\n",
    "*Детальніше:* [Географія Буркіна-Фасо](https://uk.wikipedia.org/wiki/%D0%91%D1%83%D1%80%D0%BA%D1%96%D0%BD%D0%B0-%D0%A4%D0%B0%D1%81%D0%BE)\n",
    "\n",
    "Держава знаходиться в Західній Африці. Територія країни простяглася із заходу на схід на 845 км, а з півночі на південь на 645 км. На північному заході межує з Малі (спільний кордон — 1325 км); на північному сході — з Нігером (622 км); на півдні — з Беніном (386 км), Того (131 км), Ганою (602 км), Кот-д'Івуаром (545 км). Країна не має виходу до моря.\n",
    "\n",
    "Рельєф — хвилясте плато з нечастими низькими горбами висотою до 500 метрів. Плато замкнено пагорбами на заході і південно-сході; витоки річки Вольта; напівпустелі на півночі, ліси і фермерські землі на півдні.\n",
    "\n",
    "На південному заході — гори до 747 м (гора Тена-Куру). Клімат субекваторіальний, характеризується наявністю трьох основних сезонів: прохолодний сухий сезон продовжується з листопада по березень, спекотний сухий — з березня по травень, спекотний вологий — іншу частину року. Найбільші річки — Чорна Вольта, Біла Вольта. Багато шкідливих комах, зокрема, малярійні комарі, мухи цеце (переносник сонної хвороби), терміти та сарана.\n",
    "\n",
    "![Рельєф країни](https://upload.wikimedia.org/wikipedia/commons/7/78/Burkina_Faso_relief_location_map.jpg)\n",
    "*Рельєф країни*  \n",
    "  \n",
    "  "
   ]
  },
  {
   "cell_type": "code",
   "execution_count": null,
   "id": "17baf5e9-270c-491d-bdfd-2ab456d7414a",
   "metadata": {},
   "outputs": [],
   "source": []
  },
  {
   "cell_type": "code",
   "execution_count": null,
   "id": "7a4eef21-4149-4397-8661-00d5f78ddada",
   "metadata": {},
   "outputs": [],
   "source": []
  },
  {
   "cell_type": "code",
   "execution_count": null,
   "id": "4c550bb0-a0d8-4f82-8c07-344337ac6d77",
   "metadata": {},
   "outputs": [],
   "source": []
  },
  {
   "cell_type": "code",
   "execution_count": null,
   "id": "2fde4d1e-c81e-4617-8417-2ba46b959583",
   "metadata": {},
   "outputs": [],
   "source": []
  },
  {
   "cell_type": "code",
   "execution_count": null,
   "id": "b049dc8f-745c-4f6a-a4b7-85a2b219e776",
   "metadata": {},
   "outputs": [],
   "source": []
  },
  {
   "cell_type": "code",
   "execution_count": null,
   "id": "905be706-508d-4db0-b014-a08a021ef23b",
   "metadata": {},
   "outputs": [],
   "source": []
  },
  {
   "cell_type": "code",
   "execution_count": null,
   "id": "df6cb87c-10bb-489f-86e0-e4db4e218947",
   "metadata": {},
   "outputs": [],
   "source": []
  },
  {
   "cell_type": "code",
   "execution_count": null,
   "id": "f1b24f12-fbea-4a5a-9ba9-993bc1803e3e",
   "metadata": {},
   "outputs": [],
   "source": []
  },
  {
   "cell_type": "code",
   "execution_count": null,
   "id": "e450ac21-688d-4612-b0f1-ae84ffe30372",
   "metadata": {},
   "outputs": [],
   "source": []
  },
  {
   "cell_type": "code",
   "execution_count": null,
   "id": "07e55b35-a6fa-45d8-93a6-32066636b3c9",
   "metadata": {},
   "outputs": [],
   "source": []
  },
  {
   "cell_type": "code",
   "execution_count": 13,
   "id": "211c7360-623f-4ff5-9e71-1b67181c70f5",
   "metadata": {},
   "outputs": [
    {
     "data": {
      "text/html": [
       "<div style=\"display:flex; justify-content: center;\">\n",
       "<svg xmlns=\"http://www.w3.org/2000/svg\" width=\"450\" height=\"300\">\n",
       "\n",
       "  <rect width=\"450\" height=\"150\" fill=\"#EF3340\" />\n",
       "\n",
       "  <!-- Green Stripe -->\n",
       "  <rect y=\"150\" width=\"450\" height=\"150\" fill=\"#009739\" />\n",
       "\n",
       "  <!-- Yellow Star -->\n",
       "  <polygon points=\"225,110 237,140 270,140 243,155 255,185 225,170 195,185 207,155 180,140 213,140\" fill=\"#FFD100\" />\n",
       "</svg>\n",
       "</div>\n"
      ],
      "text/plain": [
       "<IPython.core.display.HTML object>"
      ]
     },
     "metadata": {},
     "output_type": "display_data"
    }
   ],
   "source": [
    "%%HTML\n",
    "<div style=\"display:flex; justify-content: center;\">\n",
    "<svg xmlns=\"http://www.w3.org/2000/svg\" width=\"450\" height=\"300\">\n",
    "\n",
    "  <rect width=\"450\" height=\"150\" fill=\"#EF3340\" />\n",
    "\n",
    "  <!-- Green Stripe -->\n",
    "  <rect y=\"150\" width=\"450\" height=\"150\" fill=\"#009739\" />\n",
    "\n",
    "  <!-- Yellow Star -->\n",
    "  <polygon points=\"225,110 237,140 270,140 243,155 255,185 225,170 195,185 207,155 180,140 213,140\" fill=\"#FFD100\" />\n",
    "</svg>\n",
    "</div>"
   ]
  }
 ],
 "metadata": {
  "kernelspec": {
   "display_name": "Python 3 (ipykernel)",
   "language": "python",
   "name": "python3"
  },
  "language_info": {
   "codemirror_mode": {
    "name": "ipython",
    "version": 3
   },
   "file_extension": ".py",
   "mimetype": "text/x-python",
   "name": "python",
   "nbconvert_exporter": "python",
   "pygments_lexer": "ipython3",
   "version": "3.11.7"
  }
 },
 "nbformat": 4,
 "nbformat_minor": 5
}
