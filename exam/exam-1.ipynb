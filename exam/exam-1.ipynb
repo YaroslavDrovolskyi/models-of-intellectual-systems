{
 "cells": [
  {
   "cell_type": "markdown",
   "id": "b99ed3fc-1d3f-460d-b17a-53f425fb3416",
   "metadata": {},
   "source": [
    "# Екзамен Дровольського Ярослава, ІПС-42\n",
    "## (частина 1)"
   ]
  },
  {
   "cell_type": "markdown",
   "id": "2dfeba63-3946-4540-827d-1cb688bc5021",
   "metadata": {},
   "source": [
    "Імпортуємо бібліотеку Pandas"
   ]
  },
  {
   "cell_type": "code",
   "execution_count": 2,
   "id": "ba55079c-1607-44ca-b5ac-9b8aed0085bb",
   "metadata": {},
   "outputs": [],
   "source": [
    "import pandas as pd"
   ]
  },
  {
   "cell_type": "markdown",
   "id": "878a0b65-dee0-4c81-a5ac-013bbfda3cc6",
   "metadata": {},
   "source": [
    "Далі було завантажено набір даних про оцінки студентів на іспитах за [посиланням](https://www.kaggle.com/datasets/desalegngeb/students-exam-scores)"
   ]
  },
  {
   "cell_type": "markdown",
   "id": "1e4eed33-992d-4087-86b5-48ff9a1362d3",
   "metadata": {},
   "source": [
    "Читаємо CSV-файл у DataFrame:"
   ]
  },
  {
   "cell_type": "code",
   "execution_count": 3,
   "id": "f9f4fbee-54bf-4993-858d-90a39c007479",
   "metadata": {},
   "outputs": [],
   "source": [
    "df = pd.read_csv('Expanded_data_with_more_features.csv')"
   ]
  },
  {
   "cell_type": "markdown",
   "id": "7f4c34c1-9a62-433d-9ef1-f7a7ce12c461",
   "metadata": {},
   "source": [
    "Подивимося на загальний вигляд таблиці. "
   ]
  },
  {
   "cell_type": "code",
   "execution_count": 4,
   "id": "d87d1c0d-e2b6-4e87-a36e-ed7563ca1b3f",
   "metadata": {},
   "outputs": [
    {
     "data": {
      "text/html": [
       "<div>\n",
       "<style scoped>\n",
       "    .dataframe tbody tr th:only-of-type {\n",
       "        vertical-align: middle;\n",
       "    }\n",
       "\n",
       "    .dataframe tbody tr th {\n",
       "        vertical-align: top;\n",
       "    }\n",
       "\n",
       "    .dataframe thead th {\n",
       "        text-align: right;\n",
       "    }\n",
       "</style>\n",
       "<table border=\"1\" class=\"dataframe\">\n",
       "  <thead>\n",
       "    <tr style=\"text-align: right;\">\n",
       "      <th></th>\n",
       "      <th>Unnamed: 0</th>\n",
       "      <th>Gender</th>\n",
       "      <th>EthnicGroup</th>\n",
       "      <th>ParentEduc</th>\n",
       "      <th>LunchType</th>\n",
       "      <th>TestPrep</th>\n",
       "      <th>ParentMaritalStatus</th>\n",
       "      <th>PracticeSport</th>\n",
       "      <th>IsFirstChild</th>\n",
       "      <th>NrSiblings</th>\n",
       "      <th>TransportMeans</th>\n",
       "      <th>WklyStudyHours</th>\n",
       "      <th>MathScore</th>\n",
       "      <th>ReadingScore</th>\n",
       "      <th>WritingScore</th>\n",
       "    </tr>\n",
       "  </thead>\n",
       "  <tbody>\n",
       "    <tr>\n",
       "      <th>0</th>\n",
       "      <td>0</td>\n",
       "      <td>female</td>\n",
       "      <td>NaN</td>\n",
       "      <td>bachelor's degree</td>\n",
       "      <td>standard</td>\n",
       "      <td>none</td>\n",
       "      <td>married</td>\n",
       "      <td>regularly</td>\n",
       "      <td>yes</td>\n",
       "      <td>3.0</td>\n",
       "      <td>school_bus</td>\n",
       "      <td>&lt; 5</td>\n",
       "      <td>71</td>\n",
       "      <td>71</td>\n",
       "      <td>74</td>\n",
       "    </tr>\n",
       "    <tr>\n",
       "      <th>1</th>\n",
       "      <td>1</td>\n",
       "      <td>female</td>\n",
       "      <td>group C</td>\n",
       "      <td>some college</td>\n",
       "      <td>standard</td>\n",
       "      <td>NaN</td>\n",
       "      <td>married</td>\n",
       "      <td>sometimes</td>\n",
       "      <td>yes</td>\n",
       "      <td>0.0</td>\n",
       "      <td>NaN</td>\n",
       "      <td>5 - 10</td>\n",
       "      <td>69</td>\n",
       "      <td>90</td>\n",
       "      <td>88</td>\n",
       "    </tr>\n",
       "    <tr>\n",
       "      <th>2</th>\n",
       "      <td>2</td>\n",
       "      <td>female</td>\n",
       "      <td>group B</td>\n",
       "      <td>master's degree</td>\n",
       "      <td>standard</td>\n",
       "      <td>none</td>\n",
       "      <td>single</td>\n",
       "      <td>sometimes</td>\n",
       "      <td>yes</td>\n",
       "      <td>4.0</td>\n",
       "      <td>school_bus</td>\n",
       "      <td>&lt; 5</td>\n",
       "      <td>87</td>\n",
       "      <td>93</td>\n",
       "      <td>91</td>\n",
       "    </tr>\n",
       "    <tr>\n",
       "      <th>3</th>\n",
       "      <td>3</td>\n",
       "      <td>male</td>\n",
       "      <td>group A</td>\n",
       "      <td>associate's degree</td>\n",
       "      <td>free/reduced</td>\n",
       "      <td>none</td>\n",
       "      <td>married</td>\n",
       "      <td>never</td>\n",
       "      <td>no</td>\n",
       "      <td>1.0</td>\n",
       "      <td>NaN</td>\n",
       "      <td>5 - 10</td>\n",
       "      <td>45</td>\n",
       "      <td>56</td>\n",
       "      <td>42</td>\n",
       "    </tr>\n",
       "    <tr>\n",
       "      <th>4</th>\n",
       "      <td>4</td>\n",
       "      <td>male</td>\n",
       "      <td>group C</td>\n",
       "      <td>some college</td>\n",
       "      <td>standard</td>\n",
       "      <td>none</td>\n",
       "      <td>married</td>\n",
       "      <td>sometimes</td>\n",
       "      <td>yes</td>\n",
       "      <td>0.0</td>\n",
       "      <td>school_bus</td>\n",
       "      <td>5 - 10</td>\n",
       "      <td>76</td>\n",
       "      <td>78</td>\n",
       "      <td>75</td>\n",
       "    </tr>\n",
       "    <tr>\n",
       "      <th>...</th>\n",
       "      <td>...</td>\n",
       "      <td>...</td>\n",
       "      <td>...</td>\n",
       "      <td>...</td>\n",
       "      <td>...</td>\n",
       "      <td>...</td>\n",
       "      <td>...</td>\n",
       "      <td>...</td>\n",
       "      <td>...</td>\n",
       "      <td>...</td>\n",
       "      <td>...</td>\n",
       "      <td>...</td>\n",
       "      <td>...</td>\n",
       "      <td>...</td>\n",
       "      <td>...</td>\n",
       "    </tr>\n",
       "    <tr>\n",
       "      <th>30636</th>\n",
       "      <td>816</td>\n",
       "      <td>female</td>\n",
       "      <td>group D</td>\n",
       "      <td>high school</td>\n",
       "      <td>standard</td>\n",
       "      <td>none</td>\n",
       "      <td>single</td>\n",
       "      <td>sometimes</td>\n",
       "      <td>no</td>\n",
       "      <td>2.0</td>\n",
       "      <td>school_bus</td>\n",
       "      <td>5 - 10</td>\n",
       "      <td>59</td>\n",
       "      <td>61</td>\n",
       "      <td>65</td>\n",
       "    </tr>\n",
       "    <tr>\n",
       "      <th>30637</th>\n",
       "      <td>890</td>\n",
       "      <td>male</td>\n",
       "      <td>group E</td>\n",
       "      <td>high school</td>\n",
       "      <td>standard</td>\n",
       "      <td>none</td>\n",
       "      <td>single</td>\n",
       "      <td>regularly</td>\n",
       "      <td>no</td>\n",
       "      <td>1.0</td>\n",
       "      <td>private</td>\n",
       "      <td>5 - 10</td>\n",
       "      <td>58</td>\n",
       "      <td>53</td>\n",
       "      <td>51</td>\n",
       "    </tr>\n",
       "    <tr>\n",
       "      <th>30638</th>\n",
       "      <td>911</td>\n",
       "      <td>female</td>\n",
       "      <td>NaN</td>\n",
       "      <td>high school</td>\n",
       "      <td>free/reduced</td>\n",
       "      <td>completed</td>\n",
       "      <td>married</td>\n",
       "      <td>sometimes</td>\n",
       "      <td>no</td>\n",
       "      <td>1.0</td>\n",
       "      <td>private</td>\n",
       "      <td>5 - 10</td>\n",
       "      <td>61</td>\n",
       "      <td>70</td>\n",
       "      <td>67</td>\n",
       "    </tr>\n",
       "    <tr>\n",
       "      <th>30639</th>\n",
       "      <td>934</td>\n",
       "      <td>female</td>\n",
       "      <td>group D</td>\n",
       "      <td>associate's degree</td>\n",
       "      <td>standard</td>\n",
       "      <td>completed</td>\n",
       "      <td>married</td>\n",
       "      <td>regularly</td>\n",
       "      <td>no</td>\n",
       "      <td>3.0</td>\n",
       "      <td>school_bus</td>\n",
       "      <td>5 - 10</td>\n",
       "      <td>82</td>\n",
       "      <td>90</td>\n",
       "      <td>93</td>\n",
       "    </tr>\n",
       "    <tr>\n",
       "      <th>30640</th>\n",
       "      <td>960</td>\n",
       "      <td>male</td>\n",
       "      <td>group B</td>\n",
       "      <td>some college</td>\n",
       "      <td>standard</td>\n",
       "      <td>none</td>\n",
       "      <td>married</td>\n",
       "      <td>never</td>\n",
       "      <td>no</td>\n",
       "      <td>1.0</td>\n",
       "      <td>school_bus</td>\n",
       "      <td>5 - 10</td>\n",
       "      <td>64</td>\n",
       "      <td>60</td>\n",
       "      <td>58</td>\n",
       "    </tr>\n",
       "  </tbody>\n",
       "</table>\n",
       "<p>30641 rows × 15 columns</p>\n",
       "</div>"
      ],
      "text/plain": [
       "       Unnamed: 0  Gender EthnicGroup          ParentEduc     LunchType  \\\n",
       "0               0  female         NaN   bachelor's degree      standard   \n",
       "1               1  female     group C        some college      standard   \n",
       "2               2  female     group B     master's degree      standard   \n",
       "3               3    male     group A  associate's degree  free/reduced   \n",
       "4               4    male     group C        some college      standard   \n",
       "...           ...     ...         ...                 ...           ...   \n",
       "30636         816  female     group D         high school      standard   \n",
       "30637         890    male     group E         high school      standard   \n",
       "30638         911  female         NaN         high school  free/reduced   \n",
       "30639         934  female     group D  associate's degree      standard   \n",
       "30640         960    male     group B        some college      standard   \n",
       "\n",
       "        TestPrep ParentMaritalStatus PracticeSport IsFirstChild  NrSiblings  \\\n",
       "0           none             married     regularly          yes         3.0   \n",
       "1            NaN             married     sometimes          yes         0.0   \n",
       "2           none              single     sometimes          yes         4.0   \n",
       "3           none             married         never           no         1.0   \n",
       "4           none             married     sometimes          yes         0.0   \n",
       "...          ...                 ...           ...          ...         ...   \n",
       "30636       none              single     sometimes           no         2.0   \n",
       "30637       none              single     regularly           no         1.0   \n",
       "30638  completed             married     sometimes           no         1.0   \n",
       "30639  completed             married     regularly           no         3.0   \n",
       "30640       none             married         never           no         1.0   \n",
       "\n",
       "      TransportMeans WklyStudyHours  MathScore  ReadingScore  WritingScore  \n",
       "0         school_bus            < 5         71            71            74  \n",
       "1                NaN         5 - 10         69            90            88  \n",
       "2         school_bus            < 5         87            93            91  \n",
       "3                NaN         5 - 10         45            56            42  \n",
       "4         school_bus         5 - 10         76            78            75  \n",
       "...              ...            ...        ...           ...           ...  \n",
       "30636     school_bus         5 - 10         59            61            65  \n",
       "30637        private         5 - 10         58            53            51  \n",
       "30638        private         5 - 10         61            70            67  \n",
       "30639     school_bus         5 - 10         82            90            93  \n",
       "30640     school_bus         5 - 10         64            60            58  \n",
       "\n",
       "[30641 rows x 15 columns]"
      ]
     },
     "execution_count": 4,
     "metadata": {},
     "output_type": "execute_result"
    }
   ],
   "source": [
    "df"
   ]
  },
  {
   "cell_type": "markdown",
   "id": "c55bb415-b652-4342-9492-6b2ebe4e32b6",
   "metadata": {},
   "source": [
    "### Задачі"
   ]
  },
  {
   "cell_type": "markdown",
   "id": "0467f474-0840-472b-b403-964d9f0afe21",
   "metadata": {},
   "source": [
    "#### №1\n",
    "Скільки студентів і студенток у наборі даних?"
   ]
  },
  {
   "cell_type": "code",
   "execution_count": 20,
   "id": "dde8bad8-fc4a-46c6-8950-23a855232e08",
   "metadata": {},
   "outputs": [
    {
     "name": "stdout",
     "output_type": "stream",
     "text": [
      "Number of students: 30641\n"
     ]
    }
   ],
   "source": [
    "number_of_students = df[(df.Gender == 'male') | (df.Gender == 'female')]['Gender'].count()\n",
    "\n",
    "print(f\"Number of students: {number_of_students}\")"
   ]
  },
  {
   "cell_type": "markdown",
   "id": "746201a7-29b3-4e13-8180-ba1bc1d67bd1",
   "metadata": {},
   "source": [
    "#### №2\n",
    "Який відсоток студентів чоловічої статі в наборі даних?"
   ]
  },
  {
   "cell_type": "code",
   "execution_count": 16,
   "id": "358f0442-a87d-4131-bc6c-b447ba814b76",
   "metadata": {},
   "outputs": [
    {
     "name": "stdout",
     "output_type": "stream",
     "text": [
      "Males: 49.6622172905584 %\n"
     ]
    }
   ],
   "source": [
    "number_of_males = df[(df.Gender == 'male')]['Gender'].count()\n",
    "percentage_of_males = (number_of_males / number_of_students) * 100\n",
    "\n",
    "print(f\"Males: {percentage_of_males} %\")"
   ]
  },
  {
   "cell_type": "markdown",
   "id": "0e5c6e4b-4835-4737-831e-6db8440e207e",
   "metadata": {},
   "source": [
    "#### №3\n",
    "Який відсоток студенток у наборі даних?"
   ]
  },
  {
   "cell_type": "code",
   "execution_count": 21,
   "id": "133fee11-6b7e-4473-83e0-7060bc817922",
   "metadata": {},
   "outputs": [
    {
     "name": "stdout",
     "output_type": "stream",
     "text": [
      "Females: 50.337782709441605 %\n"
     ]
    }
   ],
   "source": [
    "number_of_females = df[(df.Gender == 'female')]['Gender'].count()\n",
    "percentage_of_females = (number_of_females / number_of_students) * 100\n",
    "\n",
    "print(f\"Females: {percentage_of_females} %\")"
   ]
  },
  {
   "cell_type": "markdown",
   "id": "58fe1a23-3d59-49a4-9fc1-45564ecfa5e3",
   "metadata": {},
   "source": [
    "#### №4\n",
    "Яка етнічна група має найвищий середній бал з математики?"
   ]
  },
  {
   "cell_type": "code",
   "execution_count": 39,
   "id": "0e8af4ba-d632-4cd2-86b1-f335d288e15d",
   "metadata": {},
   "outputs": [
    {
     "data": {
      "text/plain": [
       "EthnicGroup\n",
       "group A    62.991888\n",
       "group B    63.490216\n",
       "group C    64.695723\n",
       "group D    67.666400\n",
       "group E    75.298936\n",
       "Name: MathScore, dtype: float64"
      ]
     },
     "execution_count": 39,
     "metadata": {},
     "output_type": "execute_result"
    }
   ],
   "source": [
    "math_score_for_ethnic_groups = df.groupby('EthnicGroup')['MathScore'].mean() # take mean math score for each ethnic group\n",
    "\n",
    "math_score_for_ethnic_groups"
   ]
  },
  {
   "cell_type": "code",
   "execution_count": 38,
   "id": "0fc5acad-62cc-4763-bd42-35015cb26c93",
   "metadata": {},
   "outputs": [
    {
     "name": "stdout",
     "output_type": "stream",
     "text": [
      "Max mean math score is 75.29893590695373 for this ethnic group: group E\n"
     ]
    }
   ],
   "source": [
    "math_score_idxmax = math_score_for_ethnic_groups.idxmax() # get ethnic group with max mean math score\n",
    "math_score_max = math_score_for_ethnic_groups.at[math_score_idxmax] # take max math score\n",
    "\n",
    "print(f\"Max mean math score is {math_score_max} for this ethnic group: {math_score_idxmax}\")"
   ]
  },
  {
   "cell_type": "markdown",
   "id": "1f03012b-b9d8-4f9c-a534-480393cc8a3d",
   "metadata": {},
   "source": [
    "#### №5\n",
    "Яка етнічна група має найвищий середній бал читання?"
   ]
  },
  {
   "cell_type": "code",
   "execution_count": 40,
   "id": "02dd12a4-fcd3-4f72-9cc9-f12ba6903907",
   "metadata": {},
   "outputs": [
    {
     "data": {
      "text/plain": [
       "EthnicGroup\n",
       "group A    66.787742\n",
       "group B    67.320460\n",
       "group C    68.438233\n",
       "group D    70.382247\n",
       "group E    74.251423\n",
       "Name: ReadingScore, dtype: float64"
      ]
     },
     "execution_count": 40,
     "metadata": {},
     "output_type": "execute_result"
    }
   ],
   "source": [
    "reading_score_for_ethnic_groups = df.groupby('EthnicGroup')['ReadingScore'].mean() # take mean reading score for each ethnic group\n",
    "\n",
    "reading_score_for_ethnic_groups"
   ]
  },
  {
   "cell_type": "code",
   "execution_count": 41,
   "id": "dc0047ae-b209-43c5-9e61-0b348452ddbe",
   "metadata": {},
   "outputs": [
    {
     "name": "stdout",
     "output_type": "stream",
     "text": [
      "Max mean reading score is 74.25142291512002 for this ethnic group: group E\n"
     ]
    }
   ],
   "source": [
    "reading_score_idxmax = reading_score_for_ethnic_groups.idxmax() # get ethnic group with max mean reading score\n",
    "reading_score_max = reading_score_for_ethnic_groups.at[reading_score_idxmax]\n",
    "\n",
    "print(f\"Max mean reading score is {reading_score_max} for this ethnic group: {reading_score_idxmax}\")"
   ]
  },
  {
   "cell_type": "markdown",
   "id": "cb8597eb-229f-40bf-bdaa-065a3e66e765",
   "metadata": {},
   "source": [
    "#### №6\n",
    "Яка етнічна група має найвищий середній бал з письма?"
   ]
  },
  {
   "cell_type": "code",
   "execution_count": 42,
   "id": "498904a9-c89d-49c7-bee2-f48501ef823c",
   "metadata": {},
   "outputs": [
    {
     "data": {
      "text/plain": [
       "EthnicGroup\n",
       "group A    65.251915\n",
       "group B    65.895125\n",
       "group C    66.999240\n",
       "group D    70.890844\n",
       "group E    72.677060\n",
       "Name: WritingScore, dtype: float64"
      ]
     },
     "execution_count": 42,
     "metadata": {},
     "output_type": "execute_result"
    }
   ],
   "source": [
    "writing_score_for_ethnic_groups = df.groupby('EthnicGroup')['WritingScore'].mean() # take mean reading score for each ethnic group\n",
    "\n",
    "writing_score_for_ethnic_groups"
   ]
  },
  {
   "cell_type": "code",
   "execution_count": 43,
   "id": "f5fc1d33-71d6-4b09-a4e0-a02ee3d8d4bf",
   "metadata": {},
   "outputs": [
    {
     "name": "stdout",
     "output_type": "stream",
     "text": [
      "Max mean reading score is 72.67706013363029 for this ethnic group: group E\n"
     ]
    }
   ],
   "source": [
    "writing_score_idxmax = writing_score_for_ethnic_groups.idxmax() # get ethnic group with max mean writing score\n",
    "writing_score_max = writing_score_for_ethnic_groups.at[writing_score_idxmax]\n",
    "\n",
    "print(f\"Max mean reading score is {writing_score_max} for this ethnic group: {writing_score_idxmax}\")"
   ]
  },
  {
   "cell_type": "markdown",
   "id": "7f1e393e-282c-4a8d-994d-fa888cabfba8",
   "metadata": {},
   "source": [
    "#### №7\n",
    "Який середній бал з математики для студентів, які закінчили курс підготовки до тесту?"
   ]
  },
  {
   "cell_type": "code",
   "execution_count": 50,
   "id": "647845ba-ddda-4274-8a3f-fa513992b0c5",
   "metadata": {},
   "outputs": [
    {
     "data": {
      "text/plain": [
       "69.5466599698644"
      ]
     },
     "execution_count": 50,
     "metadata": {},
     "output_type": "execute_result"
    }
   ],
   "source": [
    "df[df.TestPrep == 'completed']['MathScore'].mean()"
   ]
  },
  {
   "cell_type": "markdown",
   "id": "efa85114-6021-45c0-8d0c-d244f44bb4c6",
   "metadata": {},
   "source": [
    "#### №8\n",
    "Який середній бал з читання для студентів, які пройшли курс підготовки до тесту?"
   ]
  },
  {
   "cell_type": "code",
   "execution_count": 49,
   "id": "03b22c4b-5251-4c7e-881e-9819641ce9ca",
   "metadata": {},
   "outputs": [
    {
     "data": {
      "text/plain": [
       "73.73299849321948"
      ]
     },
     "execution_count": 49,
     "metadata": {},
     "output_type": "execute_result"
    }
   ],
   "source": [
    "df[df.TestPrep == 'completed']['ReadingScore'].mean()"
   ]
  },
  {
   "cell_type": "markdown",
   "id": "a63efc22-cf28-4620-810e-915fee023212",
   "metadata": {},
   "source": [
    "#### №9\n",
    "Який середній бал [*з письма*] для студентів, які закінчили курс підготовки до тесту?"
   ]
  },
  {
   "cell_type": "code",
   "execution_count": 48,
   "id": "c306da54-98af-45a8-816b-f31629180020",
   "metadata": {},
   "outputs": [
    {
     "data": {
      "text/plain": [
       "74.70326469111"
      ]
     },
     "execution_count": 48,
     "metadata": {},
     "output_type": "execute_result"
    }
   ],
   "source": [
    "df[df.TestPrep == 'completed']['WritingScore'].mean()"
   ]
  },
  {
   "cell_type": "markdown",
   "id": "e8319739-e029-4e00-bb3f-7986deca8101",
   "metadata": {},
   "source": [
    "#### №10\n",
    "Скільки студентів мають одружених батьків?"
   ]
  },
  {
   "cell_type": "code",
   "execution_count": 57,
   "id": "a0b0da74-5828-49bd-baf3-8200f227a170",
   "metadata": {},
   "outputs": [
    {
     "name": "stdout",
     "output_type": "stream",
     "text": [
      "16844 parents is married, which is 54.97209621095918 %\n"
     ]
    }
   ],
   "source": [
    "number_of_married_parents = df[df.ParentMaritalStatus == 'married']['Gender'].count()\n",
    "percentage_of_married_parents = (number_of_married_parents / number_of_students) * 100\n",
    "\n",
    "print(f\"{number_of_married_parents} parents is married, which is {percentage_of_married_parents} %\")"
   ]
  },
  {
   "cell_type": "markdown",
   "id": "cad2fcc5-0a86-4bba-bd92-443d9a942688",
   "metadata": {},
   "source": [
    "#### №11\n",
    "Скільки студентів мають батьків-одинаків?"
   ]
  },
  {
   "cell_type": "code",
   "execution_count": 58,
   "id": "c53325ea-da18-4f25-b4ff-25e872227d47",
   "metadata": {},
   "outputs": [
    {
     "name": "stdout",
     "output_type": "stream",
     "text": [
      "7097 parents is single, which is 23.16177670441565 %\n"
     ]
    }
   ],
   "source": [
    "number_of_single_parents = df[df.ParentMaritalStatus == 'single']['Gender'].count()\n",
    "percentage_of_single_parents = (number_of_single_parents / number_of_students) * 100\n",
    "\n",
    "print(f\"{number_of_single_parents} parents is single, which is {percentage_of_single_parents} %\")"
   ]
  },
  {
   "cell_type": "markdown",
   "id": "ec109bb5-ade6-4a4d-a6c7-c6a2271ca408",
   "metadata": {},
   "source": [
    "#### №12\n",
    "Чи студенти, які регулярно займаються спортом, мають вищі середні результати з математики, ніж ті, хто ніколи не займається спортом?"
   ]
  },
  {
   "cell_type": "code",
   "execution_count": 69,
   "id": "58021534-6025-48ba-bd2d-93052a45a733",
   "metadata": {},
   "outputs": [
    {
     "name": "stdout",
     "output_type": "stream",
     "text": [
      "Regular sports students have higher mean math results than never sports students? True\n"
     ]
    }
   ],
   "source": [
    "mean_math_score_regular_sport_students = df[df.PracticeSport == 'regularly']['MathScore'].mean()\n",
    "mean_math_score_never_sport_students = df[df.PracticeSport == 'never']['MathScore'].mean()\n",
    "\n",
    "regular_sport_higher_math_than_never_sport = (mean_math_score_regular_sport_students > mean_math_score_never_sport_students)\n",
    "\n",
    "print(\"Regular sports students have higher mean math results than never sports students? \" + str(regular_sport_higher_math_than_never_sport))"
   ]
  },
  {
   "cell_type": "markdown",
   "id": "12e4e19d-fe39-43e1-a660-0601cad7e40d",
   "metadata": {},
   "source": [
    "#### №13\n",
    "Чи студенти, які регулярно займаються спортом, мають вищі середні результати читання, ніж ті, хто ніколи не займається спортом?"
   ]
  },
  {
   "cell_type": "code",
   "execution_count": 70,
   "id": "2803f443-bc58-4a42-95b0-1b48f4cc7bb3",
   "metadata": {},
   "outputs": [
    {
     "name": "stdout",
     "output_type": "stream",
     "text": [
      "Regular sports students have higher mean reading results than never sports students? True\n"
     ]
    }
   ],
   "source": [
    "mean_reading_score_regular_sport_students = df[df.PracticeSport == 'regularly']['ReadingScore'].mean()\n",
    "mean_reading_score_never_sport_students = df[df.PracticeSport == 'never']['ReadingScore'].mean()\n",
    "\n",
    "regular_sport_higher_reading_than_never_sport = (mean_reading_score_regular_sport_students > mean_reading_score_never_sport_students)\n",
    "\n",
    "print(\"Regular sports students have higher mean reading results than never sports students? \" + str(regular_sport_higher_reading_than_never_sport))"
   ]
  },
  {
   "cell_type": "markdown",
   "id": "2c1ea407-5566-42f0-b375-4e055bc4d06c",
   "metadata": {},
   "source": [
    "#### №14\n",
    "Скільки учнів користується шкільним автобусом, щоб дістатися до школи?"
   ]
  },
  {
   "cell_type": "code",
   "execution_count": 72,
   "id": "11aefd91-fa9b-474b-9eda-4e00bf4b4a32",
   "metadata": {},
   "outputs": [
    {
     "name": "stdout",
     "output_type": "stream",
     "text": [
      "16145 students use schoolbus, which is 52.69083907183186 %\n"
     ]
    }
   ],
   "source": [
    "number_of_schoolbus_students = df[df.TransportMeans == 'school_bus']['Gender'].count()\n",
    "percentage_of_schoolbus_students = (number_of_schoolbus_students / number_of_students) * 100\n",
    "\n",
    "print(f\"{number_of_schoolbus_students} students use schoolbus, which is {percentage_of_schoolbus_students} %\")"
   ]
  },
  {
   "cell_type": "markdown",
   "id": "95958c1c-a638-43c8-838d-d2b3fe4164c5",
   "metadata": {},
   "source": [
    "#### №15\n",
    "Скільки учнів користується приватним транспортом, щоб дістатися до школи?"
   ]
  },
  {
   "cell_type": "code",
   "execution_count": 73,
   "id": "ad0756e3-bfa9-4dd9-9bd3-274433c847a1",
   "metadata": {},
   "outputs": [
    {
     "name": "stdout",
     "output_type": "stream",
     "text": [
      "11362 students use private transport, which is 37.08103521425541 %\n"
     ]
    }
   ],
   "source": [
    "number_of_private_transport_students = df[df.TransportMeans == 'private']['Gender'].count()\n",
    "percentage_of_private_transport_students = (number_of_private_transport_students / number_of_students) * 100\n",
    "\n",
    "print(f\"{number_of_private_transport_students} students use private transport, which is {percentage_of_private_transport_students} %\")"
   ]
  }
 ],
 "metadata": {
  "kernelspec": {
   "display_name": "Python 3 (ipykernel)",
   "language": "python",
   "name": "python3"
  },
  "language_info": {
   "codemirror_mode": {
    "name": "ipython",
    "version": 3
   },
   "file_extension": ".py",
   "mimetype": "text/x-python",
   "name": "python",
   "nbconvert_exporter": "python",
   "pygments_lexer": "ipython3",
   "version": "3.11.7"
  }
 },
 "nbformat": 4,
 "nbformat_minor": 5
}
